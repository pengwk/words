{
 "cells": [
  {
   "cell_type": "code",
   "execution_count": null,
   "metadata": {
    "collapsed": true
   },
   "outputs": [],
   "source": [
    "from __future__ import print_function\n",
    "\n",
    "\n",
    "def butterfly(func):\n",
    "    import sys\n",
    "    from functools import wraps\n",
    "    \n",
    "    @wraps(func)\n",
    "    def wrapper(*arg, **kwargs):\n",
    "        def bug(*arg, **kwargs):\n",
    "            try:\n",
    "                func(*arg, **kwargs)\n",
    "            except:\n",
    "        # 记录错误\n",
    "                print(\"BUG to BUTTERFLY\")\n",
    "        return bug(*arg, **kwargs)\n",
    "    return wrapper\n",
    "\n",
    "\n",
    "@butterfly\n",
    "def my_fault(a, b):\n",
    "    print a/b\n",
    "\n",
    "my_fault(2, 0)"
   ]
  }
 ],
 "metadata": {
  "kernelspec": {
   "display_name": "Python 2",
   "language": "python",
   "name": "python2"
  },
  "language_info": {
   "codemirror_mode": {
    "name": "ipython",
    "version": 2.0
   },
   "file_extension": ".py",
   "mimetype": "text/x-python",
   "name": "python",
   "nbconvert_exporter": "python",
   "pygments_lexer": "ipython2",
   "version": "2.7.6"
  }
 },
 "nbformat": 4,
 "nbformat_minor": 0
}